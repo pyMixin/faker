{
 "cells": [
  {
   "cell_type": "markdown",
   "metadata": {},
   "source": [
    "# Faker\n",
    "## Notes\n",
    "https://faker.readthedocs.io/en/master/\n",
    "\n",
    "### Providers\n",
    "https://faker.readthedocs.io/en/master/providers.html"
   ]
  },
  {
   "cell_type": "code",
   "execution_count": 3,
   "metadata": {},
   "outputs": [
    {
     "name": "stdout",
     "output_type": "stream",
     "text": [
      "Requirement already satisfied: faker in /anaconda3/lib/python3.7/site-packages (2.0.3)\n",
      "Requirement already satisfied: text-unidecode==1.3 in /anaconda3/lib/python3.7/site-packages (from faker) (1.3)\n",
      "Requirement already satisfied: six>=1.10 in /anaconda3/lib/python3.7/site-packages (from faker) (1.12.0)\n",
      "Requirement already satisfied: python-dateutil>=2.4 in /anaconda3/lib/python3.7/site-packages (from faker) (2.8.0)\n",
      "\u001b[33mWARNING: You are using pip version 19.2.3, however version 19.3.1 is available.\n",
      "You should consider upgrading via the 'pip install --upgrade pip' command.\u001b[0m\n"
     ]
    }
   ],
   "source": [
    "import sys\n",
    "!{sys.executable} -m pip install faker\n"
   ]
  },
  {
   "cell_type": "code",
   "execution_count": 4,
   "metadata": {},
   "outputs": [
    {
     "name": "stdout",
     "output_type": "stream",
     "text": [
      "Making 10000 records\n",
      "\n"
     ]
    }
   ],
   "source": [
    "#!/usr/bin/python\n",
    "import csv\n",
    "import random\n",
    "from collections import namedtuple\n",
    "from faker import Faker\n",
    "from faker.providers import BaseProvider\n",
    "\n",
    "class CustomGenerator(BaseProvider):\n",
    "    def generate_phone_number(self):\n",
    "        return str(random.randint(10**9, 10**10-1))\n",
    "\n",
    "    def generate_address(self):\n",
    "        return random.choice(['301 Amber Shoals Suite 509','4947 Anderson Ports Apt. 537',\n",
    "            'PSC 4358','South Derek VT 39'])\n",
    "        \n",
    "\n",
    "fake = Faker()\n",
    "fake.add_provider(CustomGenerator)\n",
    "\n",
    "records = 10000\n",
    "print(\"Making %d records\\n\" % records)\n",
    "\n",
    "my_word_list = [\n",
    "'danish','cheesecake','sugar',\n",
    "'Lollipop','wafer','Gummies',\n",
    "'sesame','Jelly','beans',\n",
    "'pie','bar','Ice','oat' ]\n",
    "\n",
    "filePath=\"data1.csv\" # CHANGE ME\n",
    "\n",
    "\n",
    "fieldnames = ['id','name', 'address', 'phone_number_1', 'phone_number_2',\n",
    "              'email_1', 'email_2', 'fax_number_1', 'fax_number_2','social_security_number','dob','company','bank','credit_card','some_text']\n",
    "\n",
    "writer = csv.writer(open(filePath, \"w\"))\n",
    "\n",
    "Data = namedtuple('Data', fieldnames)\n",
    "\n",
    "def get_row():\n",
    "    id=fake.random_number(4, True)\n",
    "    name = fake.name()\n",
    "    address = fake.generate_address()\n",
    "    phone_nummber_1 = fake.generate_phone_number()\n",
    "    phone_nummber_2 = fake.generate_phone_number()\n",
    "    email_1 = fake.email()\n",
    "    email_2 = fake.email()\n",
    "    fax_number_1 = fake.generate_phone_number()\n",
    "    fax_number_2 = fake.generate_phone_number()\n",
    "\n",
    "    social_security_number=fake.ssn(taxpayer_identification_number_type=\"SSN\")\n",
    "    dob=fake.profile()\n",
    "    company=fake.company()\n",
    "    bank=fake.iban()\n",
    "    credit_card=fake.credit_card_number(card_type=None)\n",
    "    #fake.sentence(ext_word_list=my_word_list)\n",
    "    # 'Oat beans oat Lollipop bar cheesecake.'\n",
    "    some_text = fake.sentence()    \n",
    "\n",
    "    probalility_same_phone_number = random.random()\n",
    "    if probalility_same_phone_number < 0.4:\n",
    "        phone_nummber_2 = phone_nummber_1\n",
    "\n",
    "    probalility_same_fax_number = random.random()\n",
    "    if probalility_same_fax_number < 0.3:\n",
    "        fax_number_2 = fax_number_1\n",
    "\n",
    "    return Data(id,name, address, phone_nummber_1, phone_nummber_2, \n",
    "        email_1, email_2, fax_number_1, fax_number_2,social_security_number,dob,company,bank,credit_card, some_text)\n",
    "\n",
    "writer.writerow(tuple(fieldnames))\n",
    "for i in range(records):\n",
    "    data = get_row()\n",
    "    writer.writerow(data)\n",
    "\n",
    "\n"
   ]
  },
  {
   "cell_type": "code",
   "execution_count": null,
   "metadata": {},
   "outputs": [],
   "source": []
  },
  {
   "cell_type": "code",
   "execution_count": null,
   "metadata": {},
   "outputs": [],
   "source": []
  }
 ],
 "metadata": {
  "kernelspec": {
   "display_name": "Python 3",
   "language": "python",
   "name": "python3"
  },
  "language_info": {
   "codemirror_mode": {
    "name": "ipython",
    "version": 3
   },
   "file_extension": ".py",
   "mimetype": "text/x-python",
   "name": "python",
   "nbconvert_exporter": "python",
   "pygments_lexer": "ipython3",
   "version": "3.7.4"
  }
 },
 "nbformat": 4,
 "nbformat_minor": 2
}
